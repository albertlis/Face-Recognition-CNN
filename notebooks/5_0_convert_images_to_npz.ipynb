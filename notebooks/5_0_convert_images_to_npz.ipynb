{
 "cells": [
  {
   "cell_type": "code",
   "execution_count": 1,
   "metadata": {
    "collapsed": true
   },
   "outputs": [],
   "source": [
    "train_dir = '../data/stretched/train'\n",
    "# test_dir = '../data/stretched/test'\n",
    "validation_dir = '../data/stretched/val'\n",
    "\n",
    "img_shape = (96, 96, 3)\n",
    "nr_of_labels = 7\n",
    "nr_of_train_imgs = 28709\n",
    "nr_of_val_imgs = 3589\n",
    "train_batch_size = 1511\n",
    "val_batch_size = 97\n",
    "import numpy as np"
   ]
  },
  {
   "cell_type": "code",
   "execution_count": 2,
   "outputs": [
    {
     "name": "stdout",
     "output_type": "stream",
     "text": [
      "Found 28709 images belonging to 7 classes.\n",
      "Found 3589 images belonging to 7 classes.\n",
      "Processing from 3492 to 3589\r"
     ]
    }
   ],
   "source": [
    "from keras.preprocessing.image import ImageDataGenerator\n",
    "\n",
    "base_train_images = np.zeros(((nr_of_train_imgs,) + img_shape)).astype('uint8')\n",
    "base_train_labels = np.zeros((nr_of_train_imgs, nr_of_labels)).astype('uint8')\n",
    "base_val_images = np.zeros(((nr_of_val_imgs,) + img_shape)).astype('uint8')\n",
    "base_val_labels = np.zeros((nr_of_val_imgs, nr_of_labels)).astype('uint8')\n",
    "\n",
    "base_gen = ImageDataGenerator()\n",
    "for i, (imgs, labels) in enumerate(base_gen.flow_from_directory(train_dir, target_size=img_shape[:2],\n",
    "                                        batch_size=train_batch_size, class_mode='categorical')):\n",
    "    start = i*train_batch_size\n",
    "    end = (i + 1) * train_batch_size\n",
    "    if start >= nr_of_train_imgs:\n",
    "        break\n",
    "    print(f'Processing from {start} to {end}', end='\\r')\n",
    "    base_train_images[start: end] = imgs\n",
    "    base_train_labels[start : end] = labels\n",
    "\n",
    "for i, (imgs, labels) in enumerate(base_gen.flow_from_directory(validation_dir, target_size=img_shape[:2],\n",
    "                                        batch_size=val_batch_size, class_mode='categorical')):\n",
    "    start = i*val_batch_size\n",
    "    end = (i + 1) * val_batch_size\n",
    "    if start >= nr_of_val_imgs:\n",
    "        break\n",
    "    print(f'Processing from {start} to {end}', end='\\r')\n",
    "    base_val_images[start : end] = imgs\n",
    "    base_val_labels[start : end] = labels"
   ],
   "metadata": {
    "collapsed": false,
    "pycharm": {
     "name": "#%%\n"
    }
   }
  },
  {
   "cell_type": "code",
   "execution_count": 3,
   "outputs": [],
   "source": [
    "np.savez_compressed('../data/images', train_images=base_train_images, train_labels=base_train_labels,\n",
    "                    val_images=base_val_images, val_labels=base_val_labels)"
   ],
   "metadata": {
    "collapsed": false,
    "pycharm": {
     "name": "#%%\n"
    }
   }
  }
 ],
 "metadata": {
  "kernelspec": {
   "display_name": "Python 3",
   "language": "python",
   "name": "python3"
  },
  "language_info": {
   "codemirror_mode": {
    "name": "ipython",
    "version": 2
   },
   "file_extension": ".py",
   "mimetype": "text/x-python",
   "name": "python",
   "nbconvert_exporter": "python",
   "pygments_lexer": "ipython2",
   "version": "2.7.6"
  }
 },
 "nbformat": 4,
 "nbformat_minor": 0
}